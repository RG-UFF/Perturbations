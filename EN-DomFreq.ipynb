{
 "cells": [
  {
   "cell_type": "markdown",
   "id": "777bbb41",
   "metadata": {},
   "source": [
    "# FOUR - TERM: NEUTRON STAR"
   ]
  },
  {
   "cell_type": "code",
   "execution_count": 3,
   "id": "a3b2454c",
   "metadata": {},
   "outputs": [],
   "source": [
    "from Eq_freqD import *\n",
    "from background import solve_TOV\n",
    "from constants import *\n",
    "import numpy as np\n",
    "from scipy.optimize import fsolve\n",
    "from ContFrac_EN import *"
   ]
  },
  {
   "cell_type": "code",
   "execution_count": 4,
   "id": "cf1fc452",
   "metadata": {},
   "outputs": [],
   "source": [
    "file_eos = \"apr.csv\"\n",
    "\n",
    "pc = 5                                  \n",
    "R = solve_TOV(file_eos, pc, 0.0001)[0]\n",
    "M = solve_TOV(file_eos, pc, 0.0001)[1] \n",
    "\n",
    "bkg_func = set_bkg(file_eos, pc)\n",
    "rmatch = R/2\n",
    "r0 = 0.0001\n",
    "l = 2"
   ]
  },
  {
   "cell_type": "code",
   "execution_count": 6,
   "id": "73348c1f",
   "metadata": {
    "scrolled": true
   },
   "outputs": [
    {
     "name": "stderr",
     "output_type": "stream",
     "text": [
      "C:\\Users\\Isabella Nunes\\anaconda3\\lib\\site-packages\\scipy\\integrate\\_ode.py:1013: UserWarning: zvode: Excess work done on this call. (Perhaps wrong MF.)\n",
      "  warnings.warn('{:s}: {:s}'.format(self.__class__.__name__,\n",
      "C:\\Users\\Isabella Nunes\\Dropbox\\Perturbations\\Eq_freqD.py:472: ComplexWarning: Casting complex values to real discards the imaginary part\n",
      "  u[0] = u0\n",
      "C:\\Users\\Isabella Nunes\\Dropbox\\Perturbations\\Eq_freqD.py:476: ComplexWarning: Casting complex values to real discards the imaginary part\n",
      "  u[i+1] = rk4_step(r[i], u[i], dr_pert, rhs_RW, l, omega, M)\n"
     ]
    },
    {
     "data": {
      "text/plain": [
       "[3.5901018558739817, -0.30866275024190726]"
      ]
     },
     "execution_count": 6,
     "metadata": {},
     "output_type": "execute_result"
    }
   ],
   "source": [
    "match_int_ext([1,1], l, 25, rmatch, bkg_func, file_eos, R, M, r0) "
   ]
  },
  {
   "cell_type": "code",
   "execution_count": null,
   "id": "5dc2b102",
   "metadata": {},
   "outputs": [],
   "source": [
    "N = 5\n",
    "\n",
    "omega_re = np.linspace(7.39, 17.75, N)\n",
    "omega_im = np.linspace(0.26, 2.35, N)\n",
    "\n",
    "Omega_re, Omega_im = np.meshgrid(omega_re, omega_im)\n",
    "\n",
    "root = np.zeros((N,N)).tolist()\n",
    "root_real = np.zeros((N,N)).tolist()\n",
    "root_imag = np.zeros((N,N)).tolist()\n",
    "res = np.zeros((N,N)).tolist()\n",
    "\n",
    "for i in range(N):\n",
    "    for j in range(N):\n",
    "        root[i][j] = fsolve(match_int_ext, [Omega_re[i][j],Omega_im[i][j]], args=(2,15))  \n",
    "        root_real[i][j] = root[i][j][0]\n",
    "        root_imag[i][j] = root[i][j][1]\n",
    "        res[i][j] = math.sqrt(root_real[i][j]**2+root_imag[i][j]**2)"
   ]
  },
  {
   "cell_type": "code",
   "execution_count": 22,
   "id": "b2f49863",
   "metadata": {},
   "outputs": [],
   "source": [
    "from scipy.optimize import fsolve\n",
    "\n",
    "omega = fsolve(match_int_ext, [8.9366, 1.19639], args=(l,10, rmatch, bkg_func, file_eos, R, M, r0))"
   ]
  },
  {
   "cell_type": "code",
   "execution_count": 23,
   "id": "ed432fca",
   "metadata": {},
   "outputs": [
    {
     "data": {
      "text/plain": [
       "array([12.26908918,  4.14970897])"
      ]
     },
     "execution_count": 23,
     "metadata": {},
     "output_type": "execute_result"
    }
   ],
   "source": [
    "omega"
   ]
  },
  {
   "cell_type": "code",
   "execution_count": 18,
   "id": "89d9b58b",
   "metadata": {},
   "outputs": [
    {
     "data": {
      "text/plain": [
       "7.388904375202875"
      ]
     },
     "execution_count": 18,
     "metadata": {},
     "output_type": "execute_result"
    }
   ],
   "source": [
    "(10.9366/(2*math.pi))*math.sqrt(NewtonG*rho_dim)/1000"
   ]
  },
  {
   "cell_type": "code",
   "execution_count": null,
   "id": "78e88962",
   "metadata": {},
   "outputs": [],
   "source": []
  }
 ],
 "metadata": {
  "kernelspec": {
   "display_name": "Python 3 (ipykernel)",
   "language": "python",
   "name": "python3"
  },
  "language_info": {
   "codemirror_mode": {
    "name": "ipython",
    "version": 3
   },
   "file_extension": ".py",
   "mimetype": "text/x-python",
   "name": "python",
   "nbconvert_exporter": "python",
   "pygments_lexer": "ipython3",
   "version": "3.9.12"
  }
 },
 "nbformat": 4,
 "nbformat_minor": 5
}
